{
 "cells": [
  {
   "cell_type": "code",
   "execution_count": 0,
   "metadata": {
    "application/vnd.databricks.v1+cell": {
     "cellMetadata": {
      "byteLimit": 2048000,
      "rowLimit": 10000
     },
     "inputWidgets": {},
     "nuid": "23cc36f4-b140-4e51-8269-c5c97293eac0",
     "showTitle": false,
     "title": ""
    }
   },
   "outputs": [],
   "source": [
    "spark = SparkSession.builder \\\n",
    "    .appName(\"My-test-app\") \\\n",
    "    .config(\"spark.some.config.option\", \"config-value\") \\\n",
    "    .getOrCreate()"
   ]
  },
  {
   "cell_type": "code",
   "execution_count": 0,
   "metadata": {
    "application/vnd.databricks.v1+cell": {
     "cellMetadata": {
      "byteLimit": 2048000,
      "rowLimit": 10000
     },
     "inputWidgets": {},
     "nuid": "e5725c62-3f3e-479f-803c-c1afaee02d7d",
     "showTitle": false,
     "title": ""
    }
   },
   "outputs": [
    {
     "output_type": "stream",
     "name": "stdout",
     "output_type": "stream",
     "text": [
      "+------+--------+----------------+------+-----------+\n|Emp_Id|Emp_Name|      Department|Salary|      Phone|\n+------+--------+----------------+------+-----------+\n|  A101|    Jhon|Computer Science|  1000|+1701846958|\n|  A102|   Peter|     Electronics|  2000|+1701846846|\n|  A103| Micheal|              IT|  2500|+1701846458|\n+------+--------+----------------+------+-----------+\n\nroot\n |-- Emp_Id: string (nullable = false)\n |-- Emp_Name: string (nullable = false)\n |-- Department: string (nullable = false)\n |-- Salary: integer (nullable = false)\n |-- Phone: string (nullable = true)\n\n"
     ]
    }
   ],
   "source": [
    "from pyspark.sql.types import StructType, IntegerType, StringType, StructField\n",
    "\n",
    "# Define schema\n",
    "schema = StructType([\n",
    "    StructField(\"Emp_Id\", StringType(), False),\n",
    "    StructField(\"Emp_Name\", StringType(), False),\n",
    "    StructField(\"Department\", StringType(), False),\n",
    "    StructField(\"Salary\", IntegerType(), False),\n",
    "    StructField(\"Phone\", StringType(), True),  # Changed Phone to StringType for international numbers\n",
    "])\n",
    "\n",
    "# Define data (values need to be in quotes for strings)\n",
    "data = [\n",
    "    (\"A101\", \"Jhon\", \"Computer Science\", 1000, \"+1701846958\"),\n",
    "    (\"A102\", \"Peter\", \"Electronics\", 2000, \"+1701846846\"),\n",
    "    (\"A103\", \"Micheal\", \"IT\", 2500, \"+1701846458\")\n",
    "]\n",
    "\n",
    "# Create DataFrame from data and schema\n",
    "df = spark.createDataFrame(data, schema=schema)\n",
    "\n",
    "# Create a temporary SQL view to run SQL queries\n",
    "df.createOrReplaceTempView(\"employees\")\n",
    "\n",
    "# Run a SQL query to select all data\n",
    "spark.sql(\"SELECT * FROM employees\").show()\n",
    "\n",
    "df.printSchema()"
   ]
  }
 ],
 "metadata": {
  "application/vnd.databricks.v1+notebook": {
   "dashboards": [],
   "environmentMetadata": null,
   "language": "python",
   "notebookMetadata": {
    "mostRecentlyExecutedCommandWithImplicitDF": {
     "commandId": 1318797697831841,
     "dataframes": [
      "_sqldf"
     ]
    },
    "pythonIndentUnit": 4
   },
   "notebookName": "Untitled Notebook 2024-09-22 14:10:39",
   "widgets": {}
  }
 },
 "nbformat": 4,
 "nbformat_minor": 0
}
